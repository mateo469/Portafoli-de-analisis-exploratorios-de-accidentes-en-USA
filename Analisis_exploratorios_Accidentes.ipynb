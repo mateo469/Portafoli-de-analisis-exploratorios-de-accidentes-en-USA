{
 "cells": [
  {
   "cell_type": "markdown",
   "id": "9ee56250",
   "metadata": {},
   "source": [
    "### Proyecto de un analisis exploratorio de datos, de acccidentes en USA"
   ]
  },
  {
   "cell_type": "code",
   "execution_count": null,
   "id": "c22f5e08",
   "metadata": {},
   "outputs": [],
   "source": [
    "# Autor: [Ing. Mateo Montiel Lopez]\n",
    "#Carrera: [Ingenieria en Sistemas Computacionales]\n",
    "\n",
    "#Importar las librerias que se van usan en este proyectoimport pandas as pd\n",
    "import matplotlib.pyplot as plt\n",
    "import os\n",
    "os.chdir(r'C:\\Users\\monti.UNITY12\\OneDrive\\Documentos\\Portafolio de analisis de datos sobre Accidentes en USA')\n"
   ]
  }
 ],
 "metadata": {
  "kernelspec": {
   "display_name": "env",
   "language": "python",
   "name": "python3"
  },
  "language_info": {
   "name": "python",
   "version": "3.13.5"
  }
 },
 "nbformat": 4,
 "nbformat_minor": 5
}
